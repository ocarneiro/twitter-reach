{
 "cells": [
  {
   "cell_type": "markdown",
   "metadata": {},
   "source": [
    "# The Reach of a Tweet"
   ]
  },
  {
   "cell_type": "markdown",
   "metadata": {},
   "source": [
    "## What are we doing?"
   ]
  },
  {
   "cell_type": "markdown",
   "metadata": {},
   "source": [
    "Have you ever guessed how many people could see a tweet that has been retweeted by a lot of people? Could you find it out using **python** and **Twitter API**? Let's do it!"
   ]
  },
  {
   "cell_type": "markdown",
   "metadata": {},
   "source": [
    "## Which tweet are we looking at?"
   ]
  },
  {
   "cell_type": "markdown",
   "metadata": {},
   "source": [
    "My [latest tweet](https://twitter.com/carneiroblogbr/status/693201831216943104) received a ton more attention than any of my previous ones. It was retweeted by 45 people, including a high profile tweeter. If you haven't seen it or can't remember, it was the one from which I got this gif:\n",
    "![](juggling.gif)"
   ]
  },
  {
   "cell_type": "markdown",
   "metadata": {},
   "source": [
    "## Talk is cheap. Show me the code!"
   ]
  },
  {
   "cell_type": "markdown",
   "metadata": {},
   "source": [
    "We are going to use **[tweepy](http://www.tweepy.org/)**, \"An easy-to-use Python library for accessing the Twitter API\"."
   ]
  },
  {
   "cell_type": "code",
   "execution_count": 1,
   "metadata": {
    "collapsed": true
   },
   "outputs": [],
   "source": [
    "import tweepy"
   ]
  },
  {
   "cell_type": "markdown",
   "metadata": {},
   "source": [
    "You thought I would show you my secret keys? You have to create your own app at [apps.twitter.com](https://apps.twitter.com/) and get yours."
   ]
  },
  {
   "cell_type": "code",
   "execution_count": 2,
   "metadata": {
    "collapsed": true
   },
   "outputs": [],
   "source": [
    "from secret_tweepy import consumer_key, consumer_secret, access_token, token_secret"
   ]
  },
  {
   "cell_type": "markdown",
   "metadata": {},
   "source": [
    "With your keys at hand, you can get access to Twitter API."
   ]
  },
  {
   "cell_type": "code",
   "execution_count": 3,
   "metadata": {
    "collapsed": true
   },
   "outputs": [],
   "source": [
    "auth = tweepy.OAuthHandler(consumer_key, consumer_secret)\n",
    "auth.set_access_token(access_token, token_secret)\n",
    "api = tweepy.API(auth)"
   ]
  },
  {
   "cell_type": "markdown",
   "metadata": {},
   "source": [
    "We'll get our tweet by its *id*. It's the same number that appears in our url: twitter\\.com/carneiroblogbr/status/**[693201831216943104](https://twitter.com/carneiroblogbr/status/693201831216943104)**"
   ]
  },
  {
   "cell_type": "code",
   "execution_count": 4,
   "metadata": {
    "collapsed": true
   },
   "outputs": [],
   "source": [
    "TWEET_TO_ANALYZE = 693201831216943104\n",
    "tweet = api.get_status(TWEET_TO_ANALYZE)"
   ]
  },
  {
   "cell_type": "markdown",
   "metadata": {},
   "source": [
    "Just to be sure, let's take a look at that tweet's text:"
   ]
  },
  {
   "cell_type": "code",
   "execution_count": 5,
   "metadata": {
    "collapsed": false
   },
   "outputs": [
    {
     "name": "stdout",
     "output_type": "stream",
     "text": [
      "Juggling is a lot of fun!! So is #opencv ! Thanks, @nedbat #python https://t.co/QwEKYMNRMF https://t.co/aF8op1AL37 https://t.co/zaADj2DPUF\n"
     ]
    }
   ],
   "source": [
    "print(tweet.text)"
   ]
  },
  {
   "cell_type": "markdown",
   "metadata": {},
   "source": [
    "Tweepy limits the amount of retweets that we can fetch to a hundred. Luckily (?) we didn't get *that* much attention."
   ]
  },
  {
   "cell_type": "code",
   "execution_count": 6,
   "metadata": {
    "collapsed": false
   },
   "outputs": [
    {
     "name": "stdout",
     "output_type": "stream",
     "text": [
      "Retweets count: 45\n"
     ]
    }
   ],
   "source": [
    "retweets = api.retweets(TWEET_TO_ANALYZE, 100)\n",
    "print('Retweets count: %d' % len(retweets))"
   ]
  },
  {
   "cell_type": "markdown",
   "metadata": {},
   "source": [
    "Now we can build a dictionary to receive the username of the people that retweeted us. Their *screen_name* will be our *key* and the count of followers of each of them is our *value*."
   ]
  },
  {
   "cell_type": "code",
   "execution_count": 7,
   "metadata": {
    "collapsed": true
   },
   "outputs": [],
   "source": [
    "retweeters = {}\n",
    "for retweet in retweets:\n",
    "    retweeters[retweet.user.screen_name] = retweet.user.followers_count"
   ]
  },
  {
   "cell_type": "markdown",
   "metadata": {},
   "source": [
    "The moment of truth! Let's sum up all of the followers counts and see how many people could have seen our tweet (if they were paying attention)."
   ]
  },
  {
   "cell_type": "code",
   "execution_count": 8,
   "metadata": {
    "collapsed": false
   },
   "outputs": [
    {
     "name": "stdout",
     "output_type": "stream",
     "text": [
      "Tweet reach: 207308\n"
     ]
    }
   ],
   "source": [
    "print('Tweet reach: %d' % sum(retweeters.values()))"
   ]
  },
  {
   "cell_type": "markdown",
   "metadata": {},
   "source": [
    "Wow! That's great! **Over 200k!!** Please consider that I only have 121 followers..."
   ]
  },
  {
   "cell_type": "markdown",
   "metadata": {},
   "source": [
    "### Who are these retweeters?"
   ]
  },
  {
   "cell_type": "markdown",
   "metadata": {},
   "source": [
    "Some magic ahead: a lambda function! Our retweeters' dict can be considered a list of tuples with two elements: key (screen_name) and value(followers_count). If we want to see the most followed user first, we have to sort by the second element(value or [1]) and reverse the list. And let's get only the top 10 to save some space."
   ]
  },
  {
   "cell_type": "code",
   "execution_count": 9,
   "metadata": {
    "collapsed": true
   },
   "outputs": [],
   "source": [
    "most_influence = sorted(retweeters.items(),\n",
    "                        key=lambda rt: rt[1],\n",
    "                        reverse=True)[:10]"
   ]
  },
  {
   "cell_type": "markdown",
   "metadata": {},
   "source": [
    "Instead of printing it all in one line, let's [print it pretty](https://docs.python.org/3/library/pprint.html)!"
   ]
  },
  {
   "cell_type": "code",
   "execution_count": 10,
   "metadata": {
    "collapsed": false
   },
   "outputs": [
    {
     "name": "stdout",
     "output_type": "stream",
     "text": [
      "[('codinghorror', 189319),\n",
      " ('nedbat', 4250),\n",
      " ('neilkod', 2447),\n",
      " ('bostonpython', 1555),\n",
      " ('doppenhe', 1311),\n",
      " ('software_daily', 911),\n",
      " ('MalwareMinigun', 641),\n",
      " ('r0ml', 637),\n",
      " ('h_rules', 516),\n",
      " ('csegura', 455)]\n"
     ]
    }
   ],
   "source": [
    "from pprint import pprint\n",
    "pprint(most_influence)"
   ]
  },
  {
   "cell_type": "markdown",
   "metadata": {},
   "source": [
    "Thank you, [@codinghorror](https://twitter.com/codinghorror)!"
   ]
  },
  {
   "cell_type": "markdown",
   "metadata": {},
   "source": [
    "If you want to try it yourself, feel free to get this code (or even the whole IPython notebook) on my github repo: https://github.com/ocarneiro/twitter-reach"
   ]
  }
 ],
 "metadata": {
  "kernelspec": {
   "display_name": "Python 3",
   "language": "python",
   "name": "python3"
  },
  "language_info": {
   "codemirror_mode": {
    "name": "ipython",
    "version": 3
   },
   "file_extension": ".py",
   "mimetype": "text/x-python",
   "name": "python",
   "nbconvert_exporter": "python",
   "pygments_lexer": "ipython3",
   "version": "3.4.2"
  }
 },
 "nbformat": 4,
 "nbformat_minor": 0
}
